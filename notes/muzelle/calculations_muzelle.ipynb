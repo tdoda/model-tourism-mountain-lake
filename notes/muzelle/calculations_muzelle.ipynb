{
 "cells": [
  {
   "cell_type": "markdown",
   "id": "a6072ad8-e0b4-4dfc-8c59-2f68cd589129",
   "metadata": {},
   "source": [
    "# Lake Muzelle Calculations"
   ]
  },
  {
   "cell_type": "code",
   "execution_count": 1,
   "id": "3c9ebc21-c3e0-4555-b72f-90aa838fa339",
   "metadata": {},
   "outputs": [],
   "source": [
    "import numpy as np"
   ]
  },
  {
   "cell_type": "code",
   "execution_count": 34,
   "id": "dfd5d9a8-b922-4822-b178-9a95e64e383e",
   "metadata": {},
   "outputs": [
    {
     "name": "stdout",
     "output_type": "stream",
     "text": [
      "Total area = 0.179 m2\n"
     ]
    }
   ],
   "source": [
    "x_points=np.array([0,0.5,1,1.5,2,2.72]) # Distance from bank [m]\n",
    "d_points=np.array([0,0.11,0.09,0.06,0.08,0]) # Depths [m]\n",
    "total_area=np.sum(d_points[:-1]*np.diff(x_points)+np.diff(d_points)*np.diff(x_points)/2) # [m2]\n",
    "print(\"Total area = {:.3f} m2\".format(total_area))"
   ]
  },
  {
   "cell_type": "code",
   "execution_count": 35,
   "id": "d5229c4e-6caa-4505-9909-adc56511f7d1",
   "metadata": {},
   "outputs": [
    {
     "name": "stdout",
     "output_type": "stream",
     "text": [
      "Total discharge = 0.022 m3/s\n"
     ]
    }
   ],
   "source": [
    "v_points=np.array([0,0.1,0.166,0.259,0.045,0]) # Mid-depth velocities [m/s]\n",
    "area_sections=d_points[:-1]*np.diff(x_points)+np.diff(d_points)*np.diff(x_points)/2 # [m2]\n",
    "Q_tot=np.sum((v_points[:-1]+v_points[1:])/2*area_sections) # [m3/s]\n",
    "print(\"Total discharge = {:.3f} m3/s\".format(Q_tot))"
   ]
  },
  {
   "cell_type": "code",
   "execution_count": 37,
   "id": "d4bcae1d-698b-4911-a836-b10fc6a6a2bb",
   "metadata": {},
   "outputs": [
    {
     "name": "stdout",
     "output_type": "stream",
     "text": [
      "Averaged area = 0.012 m2\n"
     ]
    }
   ],
   "source": [
    "avg_area=0.4*0.03 # [m2]\n",
    "print(\"Averaged area = {:.3f} m2\".format(avg_area))"
   ]
  },
  {
   "cell_type": "code",
   "execution_count": 38,
   "id": "9bcd215d-0107-4f5d-96bc-c1ab37e18b2d",
   "metadata": {},
   "outputs": [
    {
     "name": "stdout",
     "output_type": "stream",
     "text": [
      "Averaged discharge = 0.002 m3/s\n"
     ]
    }
   ],
   "source": [
    "v_points=np.array([0.092,0.143,0.176]) # Mid-depth velocities [m/s]\n",
    "Q_avg=np.mean(v_points)*avg_area # [m3/s]\n",
    "print(\"Averaged discharge = {:.3f} m3/s\".format(Q_avg))"
   ]
  },
  {
   "cell_type": "markdown",
   "id": "f519ace1-70a7-4398-871f-12231df1787a",
   "metadata": {},
   "source": [
    "### Outflow on 15.07.2025"
   ]
  },
  {
   "cell_type": "markdown",
   "id": "3c17e561-73dd-48e7-83d6-a17c99520479",
   "metadata": {},
   "source": [
    "#### Cross-section area:"
   ]
  },
  {
   "cell_type": "code",
   "execution_count": 16,
   "id": "990ea392-05e6-46aa-88ec-d47e90f576f6",
   "metadata": {},
   "outputs": [],
   "source": [
    "width=2.88 # [m]\n",
    "x_points=np.array([0,0.48,0.72,0.96,1.2,1.44,1.68,1.92,2.4,2.88]) # Distance from bank [m]\n",
    "d_points=np.array([0,0.08,0.08,0.1,0.16,0.18,0.18,0.18,0.09,0]) # Depths [m]"
   ]
  },
  {
   "cell_type": "code",
   "execution_count": 17,
   "id": "cbef1c08-be67-46b0-9ae2-31df95083c34",
   "metadata": {},
   "outputs": [],
   "source": [
    "area_sections=d_points[:-1]*np.diff(x_points)+np.diff(d_points)*np.diff(x_points)/2 # [m2]"
   ]
  },
  {
   "cell_type": "markdown",
   "id": "8bbcc07b-32c8-45e9-b4f3-4a0f1a6d5d36",
   "metadata": {},
   "source": [
    "#### Velocities"
   ]
  },
  {
   "cell_type": "markdown",
   "id": "9280073f-fc78-49c2-8802-f827052a7f1d",
   "metadata": {},
   "source": [
    "At mid-depth:"
   ]
  },
  {
   "cell_type": "code",
   "execution_count": 18,
   "id": "4b4cfd94-bbeb-4965-a782-59819a0082c2",
   "metadata": {},
   "outputs": [],
   "source": [
    "v_points=np.array([0,0.77,0.94,1.64,0.40,0.57,0.82,0.42,1.16,0]) # [m/s]"
   ]
  },
  {
   "cell_type": "markdown",
   "id": "d3b0dec8-9b8f-4135-aaf5-f8b134d19061",
   "metadata": {},
   "source": [
    "#### Discharge"
   ]
  },
  {
   "cell_type": "code",
   "execution_count": 19,
   "id": "8c6a88d0-cf1b-4200-a0e4-74153fc7c651",
   "metadata": {},
   "outputs": [
    {
     "name": "stdout",
     "output_type": "stream",
     "text": [
      "Total discharge = 0.224 m3/s\n"
     ]
    }
   ],
   "source": [
    "Q_sections=(v_points[:-1]+v_points[1:])/2*area_sections # [m3/s]\n",
    "Q_tot=np.sum(Q_sections) # [m3/s]\n",
    "print(\"Total discharge = {:.3f} m3/s\".format(Q_tot))"
   ]
  },
  {
   "cell_type": "markdown",
   "id": "4bb1648a-b47f-47d5-a127-c9f669a01fef",
   "metadata": {},
   "source": [
    "#### Average discharge"
   ]
  },
  {
   "cell_type": "code",
   "execution_count": 55,
   "id": "97cf5690-736f-4c78-ad10-8d8e265b5265",
   "metadata": {},
   "outputs": [
    {
     "name": "stdout",
     "output_type": "stream",
     "text": [
      "Average discharge = 0.170 m3/s\n"
     ]
    }
   ],
   "source": [
    "A_mean=width*np.mean(d_points) # [m2]\n",
    "Q_mean=np.mean(v_points)*A_mean # [m3/s]\n",
    "print(\"Average discharge = {:.3f} m3/s\".format(Q_mean))"
   ]
  }
 ],
 "metadata": {
  "kernelspec": {
   "display_name": "Python 3 (ipykernel)",
   "language": "python",
   "name": "python3"
  },
  "language_info": {
   "codemirror_mode": {
    "name": "ipython",
    "version": 3
   },
   "file_extension": ".py",
   "mimetype": "text/x-python",
   "name": "python",
   "nbconvert_exporter": "python",
   "pygments_lexer": "ipython3",
   "version": "3.11.11"
  },
  "widgets": {
   "application/vnd.jupyter.widget-state+json": {
    "state": {},
    "version_major": 2,
    "version_minor": 0
   }
  }
 },
 "nbformat": 4,
 "nbformat_minor": 5
}
