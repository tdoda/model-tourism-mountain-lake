{
 "cells": [
  {
   "cell_type": "markdown",
   "id": "085c04b7-dcc1-46b9-9dea-39199ce8ef5b",
   "metadata": {},
   "source": [
    "# Two-box model estimating the effects of touristic activities on lakes"
   ]
  },
  {
   "cell_type": "markdown",
   "id": "f1bd91c1-f634-4c5a-8828-540cca76e966",
   "metadata": {},
   "source": [
    "This script runs a two-box (epilimnion-hypolimnion) model of a lake to estimate the effects of touristic activities. "
   ]
  },
  {
   "cell_type": "markdown",
   "id": "a2e48cff-f12b-4602-976b-ab5a0de7d310",
   "metadata": {},
   "source": [
    "**Author**: Tomy Doda, tomy.doda@unil.ch \\\n",
    "**Last update**: dd.mm.2025"
   ]
  },
  {
   "cell_type": "markdown",
   "id": "9bcfdfee-0726-4a6c-b775-b8d917ba36e7",
   "metadata": {},
   "source": [
    "### Load the packages"
   ]
  },
  {
   "cell_type": "code",
   "execution_count": 1,
   "id": "1067244c-28e1-40ff-a895-6d0046638458",
   "metadata": {},
   "outputs": [],
   "source": [
    "import os\n",
    "import sys\n",
    "import numpy as np\n",
    "import matplotlib.pyplot as plt\n",
    "plt.rcParams.update({'svg.fonttype':'none', 'font.sans-serif':'Arial','font.size': 12}) # \"none\": to export text as text\n",
    "import pandas as pd\n",
    "from datetime import datetime, timezone, UTC, timedelta\n",
    "import math\n",
    "import cmocean\n",
    "from functions import load_parameters\n",
    "# Uncomment to have interactive figures:\n",
    "%matplotlib widget "
   ]
  },
  {
   "cell_type": "markdown",
   "id": "e3036f99-ab01-4e53-bf1c-520cae058561",
   "metadata": {},
   "source": [
    "***"
   ]
  },
  {
   "cell_type": "markdown",
   "id": "7f580861-0166-44c6-bd94-deecd88fa1df",
   "metadata": {},
   "source": [
    "### Options (to change for different simulations)"
   ]
  },
  {
   "cell_type": "markdown",
   "id": "314b32f0-363f-4f6c-8841-62c4bb16a3b2",
   "metadata": {},
   "source": [
    "Specify the lake name, according to the files in the `lakes` folder:"
   ]
  },
  {
   "cell_type": "code",
   "execution_count": 2,
   "id": "c3b7223a-1ae6-4ff3-b50c-94c99fc4824c",
   "metadata": {},
   "outputs": [],
   "source": [
    "lakename=\"muzelle\""
   ]
  },
  {
   "cell_type": "markdown",
   "id": "5df54d71-8e34-46ca-b634-c45d42acdfaf",
   "metadata": {},
   "source": [
    "Specify the processes to include, according to the files in the `processes` folder:\n",
    "* sunscreen"
   ]
  },
  {
   "cell_type": "code",
   "execution_count": 3,
   "id": "d9c10f28-dd0a-462e-bdeb-48e1e9ff017c",
   "metadata": {},
   "outputs": [],
   "source": [
    "processes=[\"sunscreen\"]"
   ]
  },
  {
   "cell_type": "markdown",
   "id": "6d592f62-1a49-42d4-bd4b-9a1e8d93d397",
   "metadata": {},
   "source": [
    "Specify the activities to include, according to the files in the `activities` folder:\n",
    "* swimming"
   ]
  },
  {
   "cell_type": "code",
   "execution_count": 4,
   "id": "628e9dad-6a1a-4d26-a9eb-eb6c26c05f93",
   "metadata": {},
   "outputs": [],
   "source": [
    "activities=[\"swimming\"]"
   ]
  },
  {
   "cell_type": "markdown",
   "id": "299ecbf1-75fb-43d9-aad8-8eedb1a77e68",
   "metadata": {},
   "source": [
    "Figure saving option:"
   ]
  },
  {
   "cell_type": "code",
   "execution_count": 5,
   "id": "c8802337-4a86-4841-a3aa-ae43aa66c4f4",
   "metadata": {},
   "outputs": [],
   "source": [
    "savefig=False # If True, all figures are exported as png"
   ]
  },
  {
   "cell_type": "markdown",
   "id": "e6306295-a435-4dbb-af37-9b3e6a1c9238",
   "metadata": {},
   "source": [
    "***"
   ]
  },
  {
   "cell_type": "markdown",
   "id": "faeccd2f-2a9f-4dc5-b5a7-b4f60e82150c",
   "metadata": {},
   "source": [
    "### Load the parameters from csv files"
   ]
  },
  {
   "cell_type": "markdown",
   "id": "17d8c12a-b5a4-432f-b929-c8f3df05be3a",
   "metadata": {},
   "source": [
    "Lake-specific parameters:"
   ]
  },
  {
   "cell_type": "code",
   "execution_count": 6,
   "id": "e7bad011-b0d9-4bef-bc66-7079f64514f8",
   "metadata": {},
   "outputs": [],
   "source": [
    "param_lake,_,_=load_parameters(os.path.join(\"lakes\",lakename+\".csv\"))"
   ]
  },
  {
   "cell_type": "markdown",
   "id": "f1d3a474-3cc6-4ca7-9419-87b6be00a73b",
   "metadata": {},
   "source": [
    "Process-specific parameters:"
   ]
  },
  {
   "cell_type": "code",
   "execution_count": 7,
   "id": "b7e1dd72-fad0-4bce-8736-529493d8c053",
   "metadata": {},
   "outputs": [],
   "source": [
    "param_process=dict()\n",
    "for p in processes:\n",
    "    param_process[p],_,_=load_parameters(os.path.join(\"processes\",p+\".csv\"))"
   ]
  },
  {
   "cell_type": "markdown",
   "id": "b318d7d0-2736-4fa6-a975-03098ef531b0",
   "metadata": {},
   "source": [
    "Activity-specific parameters:"
   ]
  },
  {
   "cell_type": "code",
   "execution_count": 8,
   "id": "b26577a7-48bd-4268-a43e-7240e9bd26c1",
   "metadata": {},
   "outputs": [],
   "source": [
    "param_act=dict()\n",
    "for a in activities:\n",
    "    param_act[a],_,_=load_parameters(os.path.join(\"activities\",a+\".csv\"))"
   ]
  },
  {
   "cell_type": "code",
   "execution_count": 9,
   "id": "492e11de-9822-449b-afd3-9bf9b405f433",
   "metadata": {},
   "outputs": [
    {
     "data": {
      "text/plain": [
       "{'swimming': {'Number_swimmers': 10.0,\n",
       "  'Swimming_duration': 0.1,\n",
       "  'Start_swimming_time': datetime.datetime(1900, 1, 1, 9, 0),\n",
       "  'End_swimming_time': datetime.datetime(1900, 1, 1, 18, 0),\n",
       "  'Start_swimming_day': datetime.datetime(2025, 7, 1, 0, 0),\n",
       "  'End_swimming_day': datetime.datetime(2025, 8, 31, 0, 0)}}"
      ]
     },
     "execution_count": 9,
     "metadata": {},
     "output_type": "execute_result"
    }
   ],
   "source": [
    "param_act"
   ]
  }
 ],
 "metadata": {
  "kernelspec": {
   "display_name": "Python 3 (ipykernel)",
   "language": "python",
   "name": "python3"
  },
  "language_info": {
   "codemirror_mode": {
    "name": "ipython",
    "version": 3
   },
   "file_extension": ".py",
   "mimetype": "text/x-python",
   "name": "python",
   "nbconvert_exporter": "python",
   "pygments_lexer": "ipython3",
   "version": "3.11.11"
  },
  "widgets": {
   "application/vnd.jupyter.widget-state+json": {
    "state": {},
    "version_major": 2,
    "version_minor": 0
   }
  }
 },
 "nbformat": 4,
 "nbformat_minor": 5
}
